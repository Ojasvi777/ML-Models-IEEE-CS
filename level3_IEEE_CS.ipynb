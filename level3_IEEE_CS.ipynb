{
  "nbformat": 4,
  "nbformat_minor": 0,
  "metadata": {
    "colab": {
      "provenance": [],
      "gpuType": "T4"
    },
    "kernelspec": {
      "name": "python3",
      "display_name": "Python 3"
    },
    "language_info": {
      "name": "python"
    },
    "accelerator": "GPU"
  },
  "cells": [
    {
      "cell_type": "code",
      "execution_count": 24,
      "metadata": {
        "id": "bdKPVZIwzPHR"
      },
      "outputs": [],
      "source": [
        "import pandas as pd\n",
        "import numpy as np\n",
        "import tensorflow as tf\n",
        "from tensorflow import keras\n",
        "from tensorflow.keras.models import Sequential\n",
        "from tensorflow.keras.layers import Dense, Flatten, Dropout, InputLayer, BatchNormalization\n",
        "from tensorflow.keras.optimizers import Adam, SGD,AdamW\n",
        "from tensorflow.keras.utils import to_categorical\n",
        "from sklearn.model_selection import train_test_split\n",
        "from sklearn.impute import SimpleImputer\n",
        "import matplotlib.pyplot as plt\n",
        "from tensorflow.keras.callbacks import ReduceLROnPlateau, EarlyStopping\n"
      ]
    },
    {
      "cell_type": "code",
      "source": [
        "df = pd.read_csv(\"data.csv\")"
      ],
      "metadata": {
        "id": "ufLxFzzqzYT-"
      },
      "execution_count": 25,
      "outputs": []
    },
    {
      "cell_type": "code",
      "source": [
        "X = df.drop(columns=['label']).values\n",
        "y = df['label'].values"
      ],
      "metadata": {
        "id": "2DxKi2u_zmH8"
      },
      "execution_count": 26,
      "outputs": []
    },
    {
      "cell_type": "code",
      "source": [
        "X = X / 255.0"
      ],
      "metadata": {
        "id": "9H1oHJ9szsaP"
      },
      "execution_count": 27,
      "outputs": []
    },
    {
      "cell_type": "code",
      "source": [
        "y = y.reshape(-1)\n",
        "y = to_categorical(y, num_classes=10)\n"
      ],
      "metadata": {
        "id": "KOpLEzHfzurh"
      },
      "execution_count": 28,
      "outputs": []
    },
    {
      "cell_type": "code",
      "source": [
        "print(\"Before one-hot encoding:\", df['label'].shape)\n",
        "print(\"Before one-hot encoding:\", y.shape)\n"
      ],
      "metadata": {
        "colab": {
          "base_uri": "https://localhost:8080/"
        },
        "id": "2GYXzRyO6b9m",
        "outputId": "f53b0d18-a348-459b-c367-0c5a3ada5c13"
      },
      "execution_count": 29,
      "outputs": [
        {
          "output_type": "stream",
          "name": "stdout",
          "text": [
            "Before one-hot encoding: (60000,)\n",
            "Before one-hot encoding: (60000, 10)\n"
          ]
        }
      ]
    },
    {
      "cell_type": "markdown",
      "source": [],
      "metadata": {
        "id": "aj-h6yxkNBcl"
      }
    },
    {
      "cell_type": "code",
      "source": [
        "print(\"X shape:\", X.shape)\n",
        "print(\"X dtype:\", X.dtype)\n"
      ],
      "metadata": {
        "colab": {
          "base_uri": "https://localhost:8080/"
        },
        "id": "T0za5_S46vOw",
        "outputId": "1f5ddfda-f777-4472-83eb-8590808e38ef"
      },
      "execution_count": 30,
      "outputs": [
        {
          "output_type": "stream",
          "name": "stdout",
          "text": [
            "X shape: (60000, 784)\n",
            "X dtype: float64\n"
          ]
        }
      ]
    },
    {
      "cell_type": "code",
      "source": [
        "print(\"Total NaNs in X:\", np.isnan(X).sum())"
      ],
      "metadata": {
        "colab": {
          "base_uri": "https://localhost:8080/"
        },
        "id": "HrzHkQOk7Wsr",
        "outputId": "1a29855b-93a3-47a0-f6a1-57e75f76df57"
      },
      "execution_count": 31,
      "outputs": [
        {
          "output_type": "stream",
          "name": "stdout",
          "text": [
            "Total NaNs in X: 0\n"
          ]
        }
      ]
    },
    {
      "cell_type": "code",
      "source": [
        "imputer = SimpleImputer(strategy=\"mean\")\n",
        "X = imputer.fit_transform(X)\n",
        "print(\"NaNs in X after fixing:\", np.isnan(X).sum())"
      ],
      "metadata": {
        "colab": {
          "base_uri": "https://localhost:8080/"
        },
        "id": "6AVGgigTzyTu",
        "outputId": "96f58ea9-6987-4bb1-a58b-a2ade4789c95"
      },
      "execution_count": 32,
      "outputs": [
        {
          "output_type": "stream",
          "name": "stdout",
          "text": [
            "NaNs in X after fixing: 0\n"
          ]
        }
      ]
    },
    {
      "cell_type": "code",
      "source": [
        "print(\"y shape:\", y.shape)\n"
      ],
      "metadata": {
        "colab": {
          "base_uri": "https://localhost:8080/"
        },
        "id": "bEzfsa7q7uKk",
        "outputId": "af1e1e52-6a23-45bc-8515-5956b8f6a84d"
      },
      "execution_count": 33,
      "outputs": [
        {
          "output_type": "stream",
          "name": "stdout",
          "text": [
            "y shape: (60000, 10)\n"
          ]
        }
      ]
    },
    {
      "cell_type": "code",
      "source": [
        "X_train, X_temp, y_train, y_temp = train_test_split(X, y, test_size=0.2, random_state=42, stratify=y)\n",
        "print(\"Splitting successful!\")\n"
      ],
      "metadata": {
        "colab": {
          "base_uri": "https://localhost:8080/"
        },
        "id": "DQebHvMw7Z9b",
        "outputId": "23e69bcc-8ee4-4b8e-ffe0-83bb4e3793ca"
      },
      "execution_count": 34,
      "outputs": [
        {
          "output_type": "stream",
          "name": "stdout",
          "text": [
            "Splitting successful!\n"
          ]
        }
      ]
    },
    {
      "cell_type": "code",
      "source": [
        "print(\"NaNs in X:\", np.isnan(X).sum())\n",
        "print(\"Infs in X:\", np.isinf(X).sum())\n",
        "\n",
        "print(\"NaNs in y:\", np.isnan(y).sum())\n",
        "print(\"Infs in y:\", np.isinf(y).sum())\n"
      ],
      "metadata": {
        "colab": {
          "base_uri": "https://localhost:8080/"
        },
        "id": "1suufWHH9OL5",
        "outputId": "b92fdd5e-e16b-438f-f545-6472bbfe8de6"
      },
      "execution_count": 35,
      "outputs": [
        {
          "output_type": "stream",
          "name": "stdout",
          "text": [
            "NaNs in X: 0\n",
            "Infs in X: 0\n",
            "NaNs in y: 0\n",
            "Infs in y: 0\n"
          ]
        }
      ]
    },
    {
      "cell_type": "code",
      "source": [
        "X_val, X_test, y_val, y_test = train_test_split(X_temp, y_temp, test_size=0.5, random_state=42, stratify=y_temp)"
      ],
      "metadata": {
        "id": "FucVz_EgzzvJ"
      },
      "execution_count": 36,
      "outputs": []
    },
    {
      "cell_type": "code",
      "source": [
        "from tensorflow.keras.layers import Input\n",
        "\n",
        "model = Sequential([\n",
        "    Input(shape=(784,)),  # Use Input instead of InputLayer\n",
        "\n",
        "    Dense(1024, activation='relu'),  # Fixed missing activation function\n",
        "    BatchNormalization(),\n",
        "    Dropout(0.4),\n",
        "\n",
        "    Dense(512, activation='relu'),\n",
        "    BatchNormalization(),\n",
        "    Dropout(0.3),\n",
        "\n",
        "    Dense(256, activation='relu'),\n",
        "    BatchNormalization(),\n",
        "    Dropout(0.3),\n",
        "\n",
        "    Dense(128, activation='relu'),\n",
        "    Dropout(0.2),\n",
        "\n",
        "    Dense(10, activation='softmax')\n",
        "])\n"
      ],
      "metadata": {
        "id": "3Tq8nJozz3If"
      },
      "execution_count": 37,
      "outputs": []
    },
    {
      "cell_type": "code",
      "source": [
        "optimizer = Adam(learning_rate=3e-4)\n",
        "model.compile(optimizer=optimizer, loss='categorical_crossentropy', metrics=['accuracy'])\n",
        "\n",
        "# Learning rate reduction callback\n",
        "lr_scheduler = ReduceLROnPlateau(\n",
        "    monitor='val_loss', factor=0.9, patience=10, verbose=1, min_lr=1e-6\n",
        ")\n",
        "\n"
      ],
      "metadata": {
        "id": "tQXjb3In0BF-"
      },
      "execution_count": 38,
      "outputs": []
    },
    {
      "cell_type": "code",
      "source": [
        "early_stop = EarlyStopping(monitor='val_loss', patience=20, restore_best_weights= False)"
      ],
      "metadata": {
        "id": "RKvHk4SQ2NBz"
      },
      "execution_count": 39,
      "outputs": []
    },
    {
      "cell_type": "code",
      "source": [
        "history = model.fit(X_train, y_train,\n",
        "                    validation_data=(X_test, y_test),\n",
        "                    epochs=100,\n",
        "                    batch_size=32,\n",
        "                    callbacks=[lr_scheduler, early_stop])\n"
      ],
      "metadata": {
        "colab": {
          "base_uri": "https://localhost:8080/"
        },
        "id": "arfkxETr0GgL",
        "outputId": "4a8ee0c4-159e-43a0-89da-905c22bfbed6"
      },
      "execution_count": 40,
      "outputs": [
        {
          "output_type": "stream",
          "name": "stdout",
          "text": [
            "Epoch 1/100\n",
            "\u001b[1m1500/1500\u001b[0m \u001b[32m━━━━━━━━━━━━━━━━━━━━\u001b[0m\u001b[37m\u001b[0m \u001b[1m13s\u001b[0m 5ms/step - accuracy: 0.6940 - loss: 0.8827 - val_accuracy: 0.8495 - val_loss: 0.4214 - learning_rate: 3.0000e-04\n",
            "Epoch 2/100\n",
            "\u001b[1m1500/1500\u001b[0m \u001b[32m━━━━━━━━━━━━━━━━━━━━\u001b[0m\u001b[37m\u001b[0m \u001b[1m7s\u001b[0m 5ms/step - accuracy: 0.8133 - loss: 0.5206 - val_accuracy: 0.8535 - val_loss: 0.3938 - learning_rate: 3.0000e-04\n",
            "Epoch 3/100\n",
            "\u001b[1m1500/1500\u001b[0m \u001b[32m━━━━━━━━━━━━━━━━━━━━\u001b[0m\u001b[37m\u001b[0m \u001b[1m9s\u001b[0m 4ms/step - accuracy: 0.8299 - loss: 0.4720 - val_accuracy: 0.8528 - val_loss: 0.3895 - learning_rate: 3.0000e-04\n",
            "Epoch 4/100\n",
            "\u001b[1m1500/1500\u001b[0m \u001b[32m━━━━━━━━━━━━━━━━━━━━\u001b[0m\u001b[37m\u001b[0m \u001b[1m10s\u001b[0m 4ms/step - accuracy: 0.8441 - loss: 0.4372 - val_accuracy: 0.8677 - val_loss: 0.3729 - learning_rate: 3.0000e-04\n",
            "Epoch 5/100\n",
            "\u001b[1m1500/1500\u001b[0m \u001b[32m━━━━━━━━━━━━━━━━━━━━\u001b[0m\u001b[37m\u001b[0m \u001b[1m10s\u001b[0m 4ms/step - accuracy: 0.8446 - loss: 0.4276 - val_accuracy: 0.8625 - val_loss: 0.3816 - learning_rate: 3.0000e-04\n",
            "Epoch 6/100\n",
            "\u001b[1m1500/1500\u001b[0m \u001b[32m━━━━━━━━━━━━━━━━━━━━\u001b[0m\u001b[37m\u001b[0m \u001b[1m11s\u001b[0m 4ms/step - accuracy: 0.8526 - loss: 0.4088 - val_accuracy: 0.8682 - val_loss: 0.3586 - learning_rate: 3.0000e-04\n",
            "Epoch 7/100\n",
            "\u001b[1m1500/1500\u001b[0m \u001b[32m━━━━━━━━━━━━━━━━━━━━\u001b[0m\u001b[37m\u001b[0m \u001b[1m5s\u001b[0m 3ms/step - accuracy: 0.8599 - loss: 0.3940 - val_accuracy: 0.8630 - val_loss: 0.3687 - learning_rate: 3.0000e-04\n",
            "Epoch 8/100\n",
            "\u001b[1m1500/1500\u001b[0m \u001b[32m━━━━━━━━━━━━━━━━━━━━\u001b[0m\u001b[37m\u001b[0m \u001b[1m5s\u001b[0m 4ms/step - accuracy: 0.8653 - loss: 0.3724 - val_accuracy: 0.8677 - val_loss: 0.3576 - learning_rate: 3.0000e-04\n",
            "Epoch 9/100\n",
            "\u001b[1m1500/1500\u001b[0m \u001b[32m━━━━━━━━━━━━━━━━━━━━\u001b[0m\u001b[37m\u001b[0m \u001b[1m10s\u001b[0m 3ms/step - accuracy: 0.8658 - loss: 0.3732 - val_accuracy: 0.8723 - val_loss: 0.3441 - learning_rate: 3.0000e-04\n",
            "Epoch 10/100\n",
            "\u001b[1m1500/1500\u001b[0m \u001b[32m━━━━━━━━━━━━━━━━━━━━\u001b[0m\u001b[37m\u001b[0m \u001b[1m6s\u001b[0m 4ms/step - accuracy: 0.8677 - loss: 0.3640 - val_accuracy: 0.8783 - val_loss: 0.3375 - learning_rate: 3.0000e-04\n",
            "Epoch 11/100\n",
            "\u001b[1m1500/1500\u001b[0m \u001b[32m━━━━━━━━━━━━━━━━━━━━\u001b[0m\u001b[37m\u001b[0m \u001b[1m10s\u001b[0m 4ms/step - accuracy: 0.8711 - loss: 0.3542 - val_accuracy: 0.8773 - val_loss: 0.3322 - learning_rate: 3.0000e-04\n",
            "Epoch 12/100\n",
            "\u001b[1m1500/1500\u001b[0m \u001b[32m━━━━━━━━━━━━━━━━━━━━\u001b[0m\u001b[37m\u001b[0m \u001b[1m5s\u001b[0m 3ms/step - accuracy: 0.8726 - loss: 0.3514 - val_accuracy: 0.8780 - val_loss: 0.3297 - learning_rate: 3.0000e-04\n",
            "Epoch 13/100\n",
            "\u001b[1m1500/1500\u001b[0m \u001b[32m━━━━━━━━━━━━━━━━━━━━\u001b[0m\u001b[37m\u001b[0m \u001b[1m5s\u001b[0m 4ms/step - accuracy: 0.8730 - loss: 0.3427 - val_accuracy: 0.8823 - val_loss: 0.3226 - learning_rate: 3.0000e-04\n",
            "Epoch 14/100\n",
            "\u001b[1m1500/1500\u001b[0m \u001b[32m━━━━━━━━━━━━━━━━━━━━\u001b[0m\u001b[37m\u001b[0m \u001b[1m6s\u001b[0m 4ms/step - accuracy: 0.8753 - loss: 0.3394 - val_accuracy: 0.8812 - val_loss: 0.3304 - learning_rate: 3.0000e-04\n",
            "Epoch 15/100\n",
            "\u001b[1m1500/1500\u001b[0m \u001b[32m━━━━━━━━━━━━━━━━━━━━\u001b[0m\u001b[37m\u001b[0m \u001b[1m10s\u001b[0m 4ms/step - accuracy: 0.8793 - loss: 0.3351 - val_accuracy: 0.8802 - val_loss: 0.3272 - learning_rate: 3.0000e-04\n",
            "Epoch 16/100\n",
            "\u001b[1m1500/1500\u001b[0m \u001b[32m━━━━━━━━━━━━━━━━━━━━\u001b[0m\u001b[37m\u001b[0m \u001b[1m10s\u001b[0m 4ms/step - accuracy: 0.8806 - loss: 0.3254 - val_accuracy: 0.8747 - val_loss: 0.3399 - learning_rate: 3.0000e-04\n",
            "Epoch 17/100\n",
            "\u001b[1m1500/1500\u001b[0m \u001b[32m━━━━━━━━━━━━━━━━━━━━\u001b[0m\u001b[37m\u001b[0m \u001b[1m5s\u001b[0m 3ms/step - accuracy: 0.8814 - loss: 0.3260 - val_accuracy: 0.8832 - val_loss: 0.3267 - learning_rate: 3.0000e-04\n",
            "Epoch 18/100\n",
            "\u001b[1m1500/1500\u001b[0m \u001b[32m━━━━━━━━━━━━━━━━━━━━\u001b[0m\u001b[37m\u001b[0m \u001b[1m5s\u001b[0m 3ms/step - accuracy: 0.8792 - loss: 0.3251 - val_accuracy: 0.8820 - val_loss: 0.3310 - learning_rate: 3.0000e-04\n",
            "Epoch 19/100\n",
            "\u001b[1m1500/1500\u001b[0m \u001b[32m━━━━━━━━━━━━━━━━━━━━\u001b[0m\u001b[37m\u001b[0m \u001b[1m10s\u001b[0m 3ms/step - accuracy: 0.8834 - loss: 0.3184 - val_accuracy: 0.8897 - val_loss: 0.3130 - learning_rate: 3.0000e-04\n",
            "Epoch 20/100\n",
            "\u001b[1m1500/1500\u001b[0m \u001b[32m━━━━━━━━━━━━━━━━━━━━\u001b[0m\u001b[37m\u001b[0m \u001b[1m10s\u001b[0m 3ms/step - accuracy: 0.8852 - loss: 0.3123 - val_accuracy: 0.8837 - val_loss: 0.3244 - learning_rate: 3.0000e-04\n",
            "Epoch 21/100\n",
            "\u001b[1m1500/1500\u001b[0m \u001b[32m━━━━━━━━━━━━━━━━━━━━\u001b[0m\u001b[37m\u001b[0m \u001b[1m6s\u001b[0m 4ms/step - accuracy: 0.8841 - loss: 0.3146 - val_accuracy: 0.8850 - val_loss: 0.3196 - learning_rate: 3.0000e-04\n",
            "Epoch 22/100\n",
            "\u001b[1m1500/1500\u001b[0m \u001b[32m━━━━━━━━━━━━━━━━━━━━\u001b[0m\u001b[37m\u001b[0m \u001b[1m5s\u001b[0m 3ms/step - accuracy: 0.8852 - loss: 0.3130 - val_accuracy: 0.8843 - val_loss: 0.3160 - learning_rate: 3.0000e-04\n",
            "Epoch 23/100\n",
            "\u001b[1m1500/1500\u001b[0m \u001b[32m━━━━━━━━━━━━━━━━━━━━\u001b[0m\u001b[37m\u001b[0m \u001b[1m6s\u001b[0m 4ms/step - accuracy: 0.8836 - loss: 0.3121 - val_accuracy: 0.8892 - val_loss: 0.3145 - learning_rate: 3.0000e-04\n",
            "Epoch 24/100\n",
            "\u001b[1m1500/1500\u001b[0m \u001b[32m━━━━━━━━━━━━━━━━━━━━\u001b[0m\u001b[37m\u001b[0m \u001b[1m9s\u001b[0m 3ms/step - accuracy: 0.8889 - loss: 0.3035 - val_accuracy: 0.8890 - val_loss: 0.3129 - learning_rate: 3.0000e-04\n",
            "Epoch 25/100\n",
            "\u001b[1m1500/1500\u001b[0m \u001b[32m━━━━━━━━━━━━━━━━━━━━\u001b[0m\u001b[37m\u001b[0m \u001b[1m6s\u001b[0m 4ms/step - accuracy: 0.8886 - loss: 0.2971 - val_accuracy: 0.8822 - val_loss: 0.3402 - learning_rate: 3.0000e-04\n",
            "Epoch 26/100\n",
            "\u001b[1m1500/1500\u001b[0m \u001b[32m━━━━━━━━━━━━━━━━━━━━\u001b[0m\u001b[37m\u001b[0m \u001b[1m11s\u001b[0m 4ms/step - accuracy: 0.8909 - loss: 0.2970 - val_accuracy: 0.8893 - val_loss: 0.3095 - learning_rate: 3.0000e-04\n",
            "Epoch 27/100\n",
            "\u001b[1m1500/1500\u001b[0m \u001b[32m━━━━━━━━━━━━━━━━━━━━\u001b[0m\u001b[37m\u001b[0m \u001b[1m10s\u001b[0m 4ms/step - accuracy: 0.8894 - loss: 0.3004 - val_accuracy: 0.8913 - val_loss: 0.3093 - learning_rate: 3.0000e-04\n",
            "Epoch 28/100\n",
            "\u001b[1m1500/1500\u001b[0m \u001b[32m━━━━━━━━━━━━━━━━━━━━\u001b[0m\u001b[37m\u001b[0m \u001b[1m10s\u001b[0m 3ms/step - accuracy: 0.8904 - loss: 0.2965 - val_accuracy: 0.8922 - val_loss: 0.3015 - learning_rate: 3.0000e-04\n",
            "Epoch 29/100\n",
            "\u001b[1m1500/1500\u001b[0m \u001b[32m━━━━━━━━━━━━━━━━━━━━\u001b[0m\u001b[37m\u001b[0m \u001b[1m6s\u001b[0m 4ms/step - accuracy: 0.8924 - loss: 0.2919 - val_accuracy: 0.8882 - val_loss: 0.3117 - learning_rate: 3.0000e-04\n",
            "Epoch 30/100\n",
            "\u001b[1m1500/1500\u001b[0m \u001b[32m━━━━━━━━━━━━━━━━━━━━\u001b[0m\u001b[37m\u001b[0m \u001b[1m5s\u001b[0m 3ms/step - accuracy: 0.8929 - loss: 0.2914 - val_accuracy: 0.8920 - val_loss: 0.3074 - learning_rate: 3.0000e-04\n",
            "Epoch 31/100\n",
            "\u001b[1m1500/1500\u001b[0m \u001b[32m━━━━━━━━━━━━━━━━━━━━\u001b[0m\u001b[37m\u001b[0m \u001b[1m6s\u001b[0m 4ms/step - accuracy: 0.8934 - loss: 0.2931 - val_accuracy: 0.8903 - val_loss: 0.3111 - learning_rate: 3.0000e-04\n",
            "Epoch 32/100\n",
            "\u001b[1m1500/1500\u001b[0m \u001b[32m━━━━━━━━━━━━━━━━━━━━\u001b[0m\u001b[37m\u001b[0m \u001b[1m10s\u001b[0m 4ms/step - accuracy: 0.8964 - loss: 0.2822 - val_accuracy: 0.8875 - val_loss: 0.3161 - learning_rate: 3.0000e-04\n",
            "Epoch 33/100\n",
            "\u001b[1m1500/1500\u001b[0m \u001b[32m━━━━━━━━━━━━━━━━━━━━\u001b[0m\u001b[37m\u001b[0m \u001b[1m10s\u001b[0m 3ms/step - accuracy: 0.8921 - loss: 0.2885 - val_accuracy: 0.8935 - val_loss: 0.3093 - learning_rate: 3.0000e-04\n",
            "Epoch 34/100\n",
            "\u001b[1m1500/1500\u001b[0m \u001b[32m━━━━━━━━━━━━━━━━━━━━\u001b[0m\u001b[37m\u001b[0m \u001b[1m6s\u001b[0m 4ms/step - accuracy: 0.8975 - loss: 0.2805 - val_accuracy: 0.8893 - val_loss: 0.3137 - learning_rate: 3.0000e-04\n",
            "Epoch 35/100\n",
            "\u001b[1m1500/1500\u001b[0m \u001b[32m━━━━━━━━━━━━━━━━━━━━\u001b[0m\u001b[37m\u001b[0m \u001b[1m5s\u001b[0m 4ms/step - accuracy: 0.8942 - loss: 0.2806 - val_accuracy: 0.8882 - val_loss: 0.3175 - learning_rate: 3.0000e-04\n",
            "Epoch 36/100\n",
            "\u001b[1m1500/1500\u001b[0m \u001b[32m━━━━━━━━━━━━━━━━━━━━\u001b[0m\u001b[37m\u001b[0m \u001b[1m6s\u001b[0m 4ms/step - accuracy: 0.8979 - loss: 0.2759 - val_accuracy: 0.8907 - val_loss: 0.3173 - learning_rate: 3.0000e-04\n",
            "Epoch 37/100\n",
            "\u001b[1m1500/1500\u001b[0m \u001b[32m━━━━━━━━━━━━━━━━━━━━\u001b[0m\u001b[37m\u001b[0m \u001b[1m5s\u001b[0m 3ms/step - accuracy: 0.8957 - loss: 0.2800 - val_accuracy: 0.8960 - val_loss: 0.3056 - learning_rate: 3.0000e-04\n",
            "Epoch 38/100\n",
            "\u001b[1m1492/1500\u001b[0m \u001b[32m━━━━━━━━━━━━━━━━━━━\u001b[0m\u001b[37m━\u001b[0m \u001b[1m0s\u001b[0m 3ms/step - accuracy: 0.8991 - loss: 0.2735\n",
            "Epoch 38: ReduceLROnPlateau reducing learning rate to 0.0002700000128243119.\n",
            "\u001b[1m1500/1500\u001b[0m \u001b[32m━━━━━━━━━━━━━━━━━━━━\u001b[0m\u001b[37m\u001b[0m \u001b[1m6s\u001b[0m 4ms/step - accuracy: 0.8991 - loss: 0.2735 - val_accuracy: 0.8905 - val_loss: 0.3144 - learning_rate: 3.0000e-04\n",
            "Epoch 39/100\n",
            "\u001b[1m1500/1500\u001b[0m \u001b[32m━━━━━━━━━━━━━━━━━━━━\u001b[0m\u001b[37m\u001b[0m \u001b[1m5s\u001b[0m 4ms/step - accuracy: 0.9030 - loss: 0.2678 - val_accuracy: 0.8932 - val_loss: 0.3004 - learning_rate: 2.7000e-04\n",
            "Epoch 40/100\n",
            "\u001b[1m1500/1500\u001b[0m \u001b[32m━━━━━━━━━━━━━━━━━━━━\u001b[0m\u001b[37m\u001b[0m \u001b[1m10s\u001b[0m 4ms/step - accuracy: 0.9005 - loss: 0.2633 - val_accuracy: 0.8915 - val_loss: 0.3014 - learning_rate: 2.7000e-04\n",
            "Epoch 41/100\n",
            "\u001b[1m1500/1500\u001b[0m \u001b[32m━━━━━━━━━━━━━━━━━━━━\u001b[0m\u001b[37m\u001b[0m \u001b[1m11s\u001b[0m 4ms/step - accuracy: 0.9028 - loss: 0.2641 - val_accuracy: 0.8953 - val_loss: 0.3000 - learning_rate: 2.7000e-04\n",
            "Epoch 42/100\n",
            "\u001b[1m1500/1500\u001b[0m \u001b[32m━━━━━━━━━━━━━━━━━━━━\u001b[0m\u001b[37m\u001b[0m \u001b[1m10s\u001b[0m 4ms/step - accuracy: 0.9002 - loss: 0.2666 - val_accuracy: 0.8957 - val_loss: 0.3000 - learning_rate: 2.7000e-04\n",
            "Epoch 43/100\n",
            "\u001b[1m1500/1500\u001b[0m \u001b[32m━━━━━━━━━━━━━━━━━━━━\u001b[0m\u001b[37m\u001b[0m \u001b[1m5s\u001b[0m 3ms/step - accuracy: 0.9048 - loss: 0.2567 - val_accuracy: 0.8955 - val_loss: 0.3041 - learning_rate: 2.7000e-04\n",
            "Epoch 44/100\n",
            "\u001b[1m1500/1500\u001b[0m \u001b[32m━━━━━━━━━━━━━━━━━━━━\u001b[0m\u001b[37m\u001b[0m \u001b[1m6s\u001b[0m 4ms/step - accuracy: 0.9024 - loss: 0.2660 - val_accuracy: 0.8928 - val_loss: 0.3073 - learning_rate: 2.7000e-04\n",
            "Epoch 45/100\n",
            "\u001b[1m1500/1500\u001b[0m \u001b[32m━━━━━━━━━━━━━━━━━━━━\u001b[0m\u001b[37m\u001b[0m \u001b[1m10s\u001b[0m 4ms/step - accuracy: 0.8999 - loss: 0.2670 - val_accuracy: 0.8937 - val_loss: 0.2978 - learning_rate: 2.7000e-04\n",
            "Epoch 46/100\n",
            "\u001b[1m1500/1500\u001b[0m \u001b[32m━━━━━━━━━━━━━━━━━━━━\u001b[0m\u001b[37m\u001b[0m \u001b[1m10s\u001b[0m 3ms/step - accuracy: 0.9023 - loss: 0.2609 - val_accuracy: 0.8970 - val_loss: 0.2988 - learning_rate: 2.7000e-04\n",
            "Epoch 47/100\n",
            "\u001b[1m1500/1500\u001b[0m \u001b[32m━━━━━━━━━━━━━━━━━━━━\u001b[0m\u001b[37m\u001b[0m \u001b[1m6s\u001b[0m 4ms/step - accuracy: 0.9066 - loss: 0.2496 - val_accuracy: 0.9000 - val_loss: 0.3039 - learning_rate: 2.7000e-04\n",
            "Epoch 48/100\n",
            "\u001b[1m1500/1500\u001b[0m \u001b[32m━━━━━━━━━━━━━━━━━━━━\u001b[0m\u001b[37m\u001b[0m \u001b[1m5s\u001b[0m 3ms/step - accuracy: 0.9017 - loss: 0.2622 - val_accuracy: 0.8945 - val_loss: 0.3050 - learning_rate: 2.7000e-04\n",
            "Epoch 49/100\n",
            "\u001b[1m1500/1500\u001b[0m \u001b[32m━━━━━━━━━━━━━━━━━━━━\u001b[0m\u001b[37m\u001b[0m \u001b[1m6s\u001b[0m 4ms/step - accuracy: 0.9049 - loss: 0.2568 - val_accuracy: 0.8927 - val_loss: 0.3059 - learning_rate: 2.7000e-04\n",
            "Epoch 50/100\n",
            "\u001b[1m1500/1500\u001b[0m \u001b[32m━━━━━━━━━━━━━━━━━━━━\u001b[0m\u001b[37m\u001b[0m \u001b[1m10s\u001b[0m 3ms/step - accuracy: 0.9055 - loss: 0.2540 - val_accuracy: 0.8953 - val_loss: 0.3015 - learning_rate: 2.7000e-04\n",
            "Epoch 51/100\n",
            "\u001b[1m1500/1500\u001b[0m \u001b[32m━━━━━━━━━━━━━━━━━━━━\u001b[0m\u001b[37m\u001b[0m \u001b[1m5s\u001b[0m 4ms/step - accuracy: 0.9068 - loss: 0.2472 - val_accuracy: 0.8922 - val_loss: 0.3134 - learning_rate: 2.7000e-04\n",
            "Epoch 52/100\n",
            "\u001b[1m1500/1500\u001b[0m \u001b[32m━━━━━━━━━━━━━━━━━━━━\u001b[0m\u001b[37m\u001b[0m \u001b[1m11s\u001b[0m 4ms/step - accuracy: 0.9083 - loss: 0.2479 - val_accuracy: 0.8960 - val_loss: 0.2993 - learning_rate: 2.7000e-04\n",
            "Epoch 53/100\n",
            "\u001b[1m1500/1500\u001b[0m \u001b[32m━━━━━━━━━━━━━━━━━━━━\u001b[0m\u001b[37m\u001b[0m \u001b[1m5s\u001b[0m 3ms/step - accuracy: 0.9055 - loss: 0.2516 - val_accuracy: 0.8988 - val_loss: 0.2973 - learning_rate: 2.7000e-04\n",
            "Epoch 54/100\n",
            "\u001b[1m1500/1500\u001b[0m \u001b[32m━━━━━━━━━━━━━━━━━━━━\u001b[0m\u001b[37m\u001b[0m \u001b[1m6s\u001b[0m 4ms/step - accuracy: 0.9071 - loss: 0.2513 - val_accuracy: 0.8927 - val_loss: 0.3104 - learning_rate: 2.7000e-04\n",
            "Epoch 55/100\n",
            "\u001b[1m1500/1500\u001b[0m \u001b[32m━━━━━━━━━━━━━━━━━━━━\u001b[0m\u001b[37m\u001b[0m \u001b[1m10s\u001b[0m 3ms/step - accuracy: 0.9100 - loss: 0.2472 - val_accuracy: 0.8968 - val_loss: 0.3013 - learning_rate: 2.7000e-04\n",
            "Epoch 56/100\n",
            "\u001b[1m1500/1500\u001b[0m \u001b[32m━━━━━━━━━━━━━━━━━━━━\u001b[0m\u001b[37m\u001b[0m \u001b[1m10s\u001b[0m 3ms/step - accuracy: 0.9095 - loss: 0.2456 - val_accuracy: 0.8950 - val_loss: 0.3096 - learning_rate: 2.7000e-04\n",
            "Epoch 57/100\n",
            "\u001b[1m1500/1500\u001b[0m \u001b[32m━━━━━━━━━━━━━━━━━━━━\u001b[0m\u001b[37m\u001b[0m \u001b[1m10s\u001b[0m 3ms/step - accuracy: 0.9090 - loss: 0.2446 - val_accuracy: 0.8952 - val_loss: 0.3046 - learning_rate: 2.7000e-04\n",
            "Epoch 58/100\n",
            "\u001b[1m1500/1500\u001b[0m \u001b[32m━━━━━━━━━━━━━━━━━━━━\u001b[0m\u001b[37m\u001b[0m \u001b[1m6s\u001b[0m 4ms/step - accuracy: 0.9092 - loss: 0.2461 - val_accuracy: 0.8973 - val_loss: 0.3165 - learning_rate: 2.7000e-04\n",
            "Epoch 59/100\n",
            "\u001b[1m1500/1500\u001b[0m \u001b[32m━━━━━━━━━━━━━━━━━━━━\u001b[0m\u001b[37m\u001b[0m \u001b[1m5s\u001b[0m 3ms/step - accuracy: 0.9071 - loss: 0.2464 - val_accuracy: 0.8963 - val_loss: 0.3040 - learning_rate: 2.7000e-04\n",
            "Epoch 60/100\n",
            "\u001b[1m1500/1500\u001b[0m \u001b[32m━━━━━━━━━━━━━━━━━━━━\u001b[0m\u001b[37m\u001b[0m \u001b[1m5s\u001b[0m 4ms/step - accuracy: 0.9069 - loss: 0.2459 - val_accuracy: 0.8977 - val_loss: 0.2977 - learning_rate: 2.7000e-04\n",
            "Epoch 61/100\n",
            "\u001b[1m1500/1500\u001b[0m \u001b[32m━━━━━━━━━━━━━━━━━━━━\u001b[0m\u001b[37m\u001b[0m \u001b[1m10s\u001b[0m 3ms/step - accuracy: 0.9119 - loss: 0.2358 - val_accuracy: 0.8963 - val_loss: 0.3121 - learning_rate: 2.7000e-04\n",
            "Epoch 62/100\n",
            "\u001b[1m1500/1500\u001b[0m \u001b[32m━━━━━━━━━━━━━━━━━━━━\u001b[0m\u001b[37m\u001b[0m \u001b[1m6s\u001b[0m 4ms/step - accuracy: 0.9099 - loss: 0.2428 - val_accuracy: 0.8982 - val_loss: 0.3027 - learning_rate: 2.7000e-04\n",
            "Epoch 63/100\n",
            "\u001b[1m1500/1500\u001b[0m \u001b[32m━━━━━━━━━━━━━━━━━━━━\u001b[0m\u001b[37m\u001b[0m \u001b[1m5s\u001b[0m 3ms/step - accuracy: 0.9090 - loss: 0.2430 - val_accuracy: 0.8973 - val_loss: 0.2924 - learning_rate: 2.7000e-04\n",
            "Epoch 64/100\n",
            "\u001b[1m1500/1500\u001b[0m \u001b[32m━━━━━━━━━━━━━━━━━━━━\u001b[0m\u001b[37m\u001b[0m \u001b[1m6s\u001b[0m 4ms/step - accuracy: 0.9129 - loss: 0.2404 - val_accuracy: 0.8962 - val_loss: 0.2946 - learning_rate: 2.7000e-04\n",
            "Epoch 65/100\n",
            "\u001b[1m1500/1500\u001b[0m \u001b[32m━━━━━━━━━━━━━━━━━━━━\u001b[0m\u001b[37m\u001b[0m \u001b[1m5s\u001b[0m 3ms/step - accuracy: 0.9122 - loss: 0.2386 - val_accuracy: 0.8933 - val_loss: 0.3042 - learning_rate: 2.7000e-04\n",
            "Epoch 66/100\n",
            "\u001b[1m1500/1500\u001b[0m \u001b[32m━━━━━━━━━━━━━━━━━━━━\u001b[0m\u001b[37m\u001b[0m \u001b[1m10s\u001b[0m 4ms/step - accuracy: 0.9110 - loss: 0.2430 - val_accuracy: 0.8950 - val_loss: 0.3013 - learning_rate: 2.7000e-04\n",
            "Epoch 67/100\n",
            "\u001b[1m1500/1500\u001b[0m \u001b[32m━━━━━━━━━━━━━━━━━━━━\u001b[0m\u001b[37m\u001b[0m \u001b[1m5s\u001b[0m 4ms/step - accuracy: 0.9122 - loss: 0.2349 - val_accuracy: 0.8938 - val_loss: 0.3047 - learning_rate: 2.7000e-04\n",
            "Epoch 68/100\n",
            "\u001b[1m1500/1500\u001b[0m \u001b[32m━━━━━━━━━━━━━━━━━━━━\u001b[0m\u001b[37m\u001b[0m \u001b[1m5s\u001b[0m 4ms/step - accuracy: 0.9140 - loss: 0.2321 - val_accuracy: 0.8945 - val_loss: 0.3166 - learning_rate: 2.7000e-04\n",
            "Epoch 69/100\n",
            "\u001b[1m1500/1500\u001b[0m \u001b[32m━━━━━━━━━━━━━━━━━━━━\u001b[0m\u001b[37m\u001b[0m \u001b[1m5s\u001b[0m 3ms/step - accuracy: 0.9142 - loss: 0.2294 - val_accuracy: 0.8978 - val_loss: 0.3007 - learning_rate: 2.7000e-04\n",
            "Epoch 70/100\n",
            "\u001b[1m1500/1500\u001b[0m \u001b[32m━━━━━━━━━━━━━━━━━━━━\u001b[0m\u001b[37m\u001b[0m \u001b[1m6s\u001b[0m 4ms/step - accuracy: 0.9125 - loss: 0.2358 - val_accuracy: 0.8987 - val_loss: 0.3068 - learning_rate: 2.7000e-04\n",
            "Epoch 71/100\n",
            "\u001b[1m1500/1500\u001b[0m \u001b[32m━━━━━━━━━━━━━━━━━━━━\u001b[0m\u001b[37m\u001b[0m \u001b[1m10s\u001b[0m 4ms/step - accuracy: 0.9132 - loss: 0.2294 - val_accuracy: 0.8935 - val_loss: 0.3065 - learning_rate: 2.7000e-04\n",
            "Epoch 72/100\n",
            "\u001b[1m1500/1500\u001b[0m \u001b[32m━━━━━━━━━━━━━━━━━━━━\u001b[0m\u001b[37m\u001b[0m \u001b[1m5s\u001b[0m 3ms/step - accuracy: 0.9107 - loss: 0.2349 - val_accuracy: 0.8955 - val_loss: 0.3077 - learning_rate: 2.7000e-04\n",
            "Epoch 73/100\n",
            "\u001b[1m1494/1500\u001b[0m \u001b[32m━━━━━━━━━━━━━━━━━━━\u001b[0m\u001b[37m━\u001b[0m \u001b[1m0s\u001b[0m 3ms/step - accuracy: 0.9146 - loss: 0.2325\n",
            "Epoch 73: ReduceLROnPlateau reducing learning rate to 0.00024300001678057015.\n",
            "\u001b[1m1500/1500\u001b[0m \u001b[32m━━━━━━━━━━━━━━━━━━━━\u001b[0m\u001b[37m\u001b[0m \u001b[1m10s\u001b[0m 3ms/step - accuracy: 0.9146 - loss: 0.2325 - val_accuracy: 0.8965 - val_loss: 0.3062 - learning_rate: 2.7000e-04\n",
            "Epoch 74/100\n",
            "\u001b[1m1500/1500\u001b[0m \u001b[32m━━━━━━━━━━━━━━━━━━━━\u001b[0m\u001b[37m\u001b[0m \u001b[1m5s\u001b[0m 3ms/step - accuracy: 0.9156 - loss: 0.2278 - val_accuracy: 0.9028 - val_loss: 0.2994 - learning_rate: 2.4300e-04\n",
            "Epoch 75/100\n",
            "\u001b[1m1500/1500\u001b[0m \u001b[32m━━━━━━━━━━━━━━━━━━━━\u001b[0m\u001b[37m\u001b[0m \u001b[1m10s\u001b[0m 4ms/step - accuracy: 0.9165 - loss: 0.2240 - val_accuracy: 0.8987 - val_loss: 0.2986 - learning_rate: 2.4300e-04\n",
            "Epoch 76/100\n",
            "\u001b[1m1500/1500\u001b[0m \u001b[32m━━━━━━━━━━━━━━━━━━━━\u001b[0m\u001b[37m\u001b[0m \u001b[1m10s\u001b[0m 3ms/step - accuracy: 0.9142 - loss: 0.2250 - val_accuracy: 0.9000 - val_loss: 0.2995 - learning_rate: 2.4300e-04\n",
            "Epoch 77/100\n",
            "\u001b[1m1500/1500\u001b[0m \u001b[32m━━━━━━━━━━━━━━━━━━━━\u001b[0m\u001b[37m\u001b[0m \u001b[1m10s\u001b[0m 3ms/step - accuracy: 0.9196 - loss: 0.2173 - val_accuracy: 0.8990 - val_loss: 0.3021 - learning_rate: 2.4300e-04\n",
            "Epoch 78/100\n",
            "\u001b[1m1500/1500\u001b[0m \u001b[32m━━━━━━━━━━━━━━━━━━━━\u001b[0m\u001b[37m\u001b[0m \u001b[1m10s\u001b[0m 3ms/step - accuracy: 0.9180 - loss: 0.2209 - val_accuracy: 0.9010 - val_loss: 0.3044 - learning_rate: 2.4300e-04\n",
            "Epoch 79/100\n",
            "\u001b[1m1500/1500\u001b[0m \u001b[32m━━━━━━━━━━━━━━━━━━━━\u001b[0m\u001b[37m\u001b[0m \u001b[1m5s\u001b[0m 3ms/step - accuracy: 0.9147 - loss: 0.2246 - val_accuracy: 0.8993 - val_loss: 0.3013 - learning_rate: 2.4300e-04\n",
            "Epoch 80/100\n",
            "\u001b[1m1500/1500\u001b[0m \u001b[32m━━━━━━━━━━━━━━━━━━━━\u001b[0m\u001b[37m\u001b[0m \u001b[1m6s\u001b[0m 4ms/step - accuracy: 0.9154 - loss: 0.2201 - val_accuracy: 0.8980 - val_loss: 0.3152 - learning_rate: 2.4300e-04\n",
            "Epoch 81/100\n",
            "\u001b[1m1500/1500\u001b[0m \u001b[32m━━━━━━━━━━━━━━━━━━━━\u001b[0m\u001b[37m\u001b[0m \u001b[1m5s\u001b[0m 3ms/step - accuracy: 0.9189 - loss: 0.2228 - val_accuracy: 0.8978 - val_loss: 0.3045 - learning_rate: 2.4300e-04\n",
            "Epoch 82/100\n",
            "\u001b[1m1500/1500\u001b[0m \u001b[32m━━━━━━━━━━━━━━━━━━━━\u001b[0m\u001b[37m\u001b[0m \u001b[1m6s\u001b[0m 4ms/step - accuracy: 0.9194 - loss: 0.2224 - val_accuracy: 0.9022 - val_loss: 0.2894 - learning_rate: 2.4300e-04\n",
            "Epoch 83/100\n",
            "\u001b[1m1500/1500\u001b[0m \u001b[32m━━━━━━━━━━━━━━━━━━━━\u001b[0m\u001b[37m\u001b[0m \u001b[1m10s\u001b[0m 4ms/step - accuracy: 0.9173 - loss: 0.2198 - val_accuracy: 0.9000 - val_loss: 0.3060 - learning_rate: 2.4300e-04\n",
            "Epoch 84/100\n",
            "\u001b[1m1500/1500\u001b[0m \u001b[32m━━━━━━━━━━━━━━━━━━━━\u001b[0m\u001b[37m\u001b[0m \u001b[1m10s\u001b[0m 3ms/step - accuracy: 0.9196 - loss: 0.2165 - val_accuracy: 0.8947 - val_loss: 0.3109 - learning_rate: 2.4300e-04\n",
            "Epoch 85/100\n",
            "\u001b[1m1500/1500\u001b[0m \u001b[32m━━━━━━━━━━━━━━━━━━━━\u001b[0m\u001b[37m\u001b[0m \u001b[1m6s\u001b[0m 4ms/step - accuracy: 0.9203 - loss: 0.2151 - val_accuracy: 0.8988 - val_loss: 0.3175 - learning_rate: 2.4300e-04\n",
            "Epoch 86/100\n",
            "\u001b[1m1500/1500\u001b[0m \u001b[32m━━━━━━━━━━━━━━━━━━━━\u001b[0m\u001b[37m\u001b[0m \u001b[1m5s\u001b[0m 3ms/step - accuracy: 0.9210 - loss: 0.2107 - val_accuracy: 0.8993 - val_loss: 0.3092 - learning_rate: 2.4300e-04\n",
            "Epoch 87/100\n",
            "\u001b[1m1500/1500\u001b[0m \u001b[32m━━━━━━━━━━━━━━━━━━━━\u001b[0m\u001b[37m\u001b[0m \u001b[1m6s\u001b[0m 4ms/step - accuracy: 0.9175 - loss: 0.2161 - val_accuracy: 0.9007 - val_loss: 0.3029 - learning_rate: 2.4300e-04\n",
            "Epoch 88/100\n",
            "\u001b[1m1500/1500\u001b[0m \u001b[32m━━━━━━━━━━━━━━━━━━━━\u001b[0m\u001b[37m\u001b[0m \u001b[1m5s\u001b[0m 3ms/step - accuracy: 0.9216 - loss: 0.2097 - val_accuracy: 0.8998 - val_loss: 0.3029 - learning_rate: 2.4300e-04\n",
            "Epoch 89/100\n",
            "\u001b[1m1500/1500\u001b[0m \u001b[32m━━━━━━━━━━━━━━━━━━━━\u001b[0m\u001b[37m\u001b[0m \u001b[1m6s\u001b[0m 4ms/step - accuracy: 0.9201 - loss: 0.2127 - val_accuracy: 0.8963 - val_loss: 0.3006 - learning_rate: 2.4300e-04\n",
            "Epoch 90/100\n",
            "\u001b[1m1500/1500\u001b[0m \u001b[32m━━━━━━━━━━━━━━━━━━━━\u001b[0m\u001b[37m\u001b[0m \u001b[1m5s\u001b[0m 3ms/step - accuracy: 0.9215 - loss: 0.2144 - val_accuracy: 0.9020 - val_loss: 0.2984 - learning_rate: 2.4300e-04\n",
            "Epoch 91/100\n",
            "\u001b[1m1500/1500\u001b[0m \u001b[32m━━━━━━━━━━━━━━━━━━━━\u001b[0m\u001b[37m\u001b[0m \u001b[1m5s\u001b[0m 3ms/step - accuracy: 0.9214 - loss: 0.2129 - val_accuracy: 0.8988 - val_loss: 0.3058 - learning_rate: 2.4300e-04\n",
            "Epoch 92/100\n",
            "\u001b[1m1498/1500\u001b[0m \u001b[32m━━━━━━━━━━━━━━━━━━━\u001b[0m\u001b[37m━\u001b[0m \u001b[1m0s\u001b[0m 3ms/step - accuracy: 0.9228 - loss: 0.2052\n",
            "Epoch 92: ReduceLROnPlateau reducing learning rate to 0.00021870001510251313.\n",
            "\u001b[1m1500/1500\u001b[0m \u001b[32m━━━━━━━━━━━━━━━━━━━━\u001b[0m\u001b[37m\u001b[0m \u001b[1m10s\u001b[0m 4ms/step - accuracy: 0.9228 - loss: 0.2052 - val_accuracy: 0.8993 - val_loss: 0.3081 - learning_rate: 2.4300e-04\n",
            "Epoch 93/100\n",
            "\u001b[1m1500/1500\u001b[0m \u001b[32m━━━━━━━━━━━━━━━━━━━━\u001b[0m\u001b[37m\u001b[0m \u001b[1m6s\u001b[0m 4ms/step - accuracy: 0.9231 - loss: 0.2054 - val_accuracy: 0.8953 - val_loss: 0.3142 - learning_rate: 2.1870e-04\n",
            "Epoch 94/100\n",
            "\u001b[1m1500/1500\u001b[0m \u001b[32m━━━━━━━━━━━━━━━━━━━━\u001b[0m\u001b[37m\u001b[0m \u001b[1m10s\u001b[0m 4ms/step - accuracy: 0.9208 - loss: 0.2091 - val_accuracy: 0.8980 - val_loss: 0.3031 - learning_rate: 2.1870e-04\n",
            "Epoch 95/100\n",
            "\u001b[1m1500/1500\u001b[0m \u001b[32m━━━━━━━━━━━━━━━━━━━━\u001b[0m\u001b[37m\u001b[0m \u001b[1m5s\u001b[0m 4ms/step - accuracy: 0.9245 - loss: 0.2031 - val_accuracy: 0.9020 - val_loss: 0.3134 - learning_rate: 2.1870e-04\n",
            "Epoch 96/100\n",
            "\u001b[1m1500/1500\u001b[0m \u001b[32m━━━━━━━━━━━━━━━━━━━━\u001b[0m\u001b[37m\u001b[0m \u001b[1m6s\u001b[0m 4ms/step - accuracy: 0.9211 - loss: 0.2097 - val_accuracy: 0.9007 - val_loss: 0.3128 - learning_rate: 2.1870e-04\n",
            "Epoch 97/100\n",
            "\u001b[1m1500/1500\u001b[0m \u001b[32m━━━━━━━━━━━━━━━━━━━━\u001b[0m\u001b[37m\u001b[0m \u001b[1m10s\u001b[0m 3ms/step - accuracy: 0.9219 - loss: 0.2085 - val_accuracy: 0.8973 - val_loss: 0.3149 - learning_rate: 2.1870e-04\n",
            "Epoch 98/100\n",
            "\u001b[1m1500/1500\u001b[0m \u001b[32m━━━━━━━━━━━━━━━━━━━━\u001b[0m\u001b[37m\u001b[0m \u001b[1m7s\u001b[0m 4ms/step - accuracy: 0.9238 - loss: 0.2026 - val_accuracy: 0.9018 - val_loss: 0.3087 - learning_rate: 2.1870e-04\n",
            "Epoch 99/100\n",
            "\u001b[1m1500/1500\u001b[0m \u001b[32m━━━━━━━━━━━━━━━━━━━━\u001b[0m\u001b[37m\u001b[0m \u001b[1m5s\u001b[0m 4ms/step - accuracy: 0.9237 - loss: 0.2023 - val_accuracy: 0.9018 - val_loss: 0.2981 - learning_rate: 2.1870e-04\n",
            "Epoch 100/100\n",
            "\u001b[1m1500/1500\u001b[0m \u001b[32m━━━━━━━━━━━━━━━━━━━━\u001b[0m\u001b[37m\u001b[0m \u001b[1m6s\u001b[0m 4ms/step - accuracy: 0.9262 - loss: 0.1972 - val_accuracy: 0.8998 - val_loss: 0.3080 - learning_rate: 2.1870e-04\n"
          ]
        }
      ]
    },
    {
      "cell_type": "code",
      "source": [
        "test_loss, test_accuracy = model.evaluate(X_test, y_test)\n",
        "print(f\"Test Accuracy: {test_accuracy:.4f}\")\n",
        "print(f\"Test Loss: {test_loss:.4f}\")"
      ],
      "metadata": {
        "colab": {
          "base_uri": "https://localhost:8080/"
        },
        "id": "uzSPXxbx0QsG",
        "outputId": "fc338618-7341-43c9-8956-35dc540fd5c2"
      },
      "execution_count": 41,
      "outputs": [
        {
          "output_type": "stream",
          "name": "stdout",
          "text": [
            "\u001b[1m188/188\u001b[0m \u001b[32m━━━━━━━━━━━━━━━━━━━━\u001b[0m\u001b[37m\u001b[0m \u001b[1m0s\u001b[0m 2ms/step - accuracy: 0.9076 - loss: 0.2960\n",
            "Test Accuracy: 0.8998\n",
            "Test Loss: 0.3080\n"
          ]
        }
      ]
    },
    {
      "cell_type": "code",
      "source": [
        "plt.figure(figsize=(12, 5))"
      ],
      "metadata": {
        "colab": {
          "base_uri": "https://localhost:8080/",
          "height": 52
        },
        "id": "tyhbMhU90aiT",
        "outputId": "e399023f-841b-4157-b848-1cb33e2b9c31"
      },
      "execution_count": 42,
      "outputs": [
        {
          "output_type": "execute_result",
          "data": {
            "text/plain": [
              "<Figure size 1200x500 with 0 Axes>"
            ]
          },
          "metadata": {},
          "execution_count": 42
        },
        {
          "output_type": "display_data",
          "data": {
            "text/plain": [
              "<Figure size 1200x500 with 0 Axes>"
            ]
          },
          "metadata": {}
        }
      ]
    },
    {
      "cell_type": "code",
      "source": [
        "plt.subplot(1, 2, 1)\n",
        "plt.plot(history.history['accuracy'], label='Train Accuracy')\n",
        "plt.plot(history.history['val_accuracy'], label='Validation Accuracy')\n",
        "plt.xlabel('Epochs')\n",
        "plt.ylabel('Accuracy')\n",
        "plt.legend()\n",
        "plt.title(\"Accuracy Curve\")\n"
      ],
      "metadata": {
        "colab": {
          "base_uri": "https://localhost:8080/",
          "height": 489
        },
        "id": "3yCRTY920c0y",
        "outputId": "f6331ac7-c4e3-420e-997b-42b628f34c84"
      },
      "execution_count": 43,
      "outputs": [
        {
          "output_type": "execute_result",
          "data": {
            "text/plain": [
              "Text(0.5, 1.0, 'Accuracy Curve')"
            ]
          },
          "metadata": {},
          "execution_count": 43
        },
        {
          "output_type": "display_data",
          "data": {
            "text/plain": [
              "<Figure size 640x480 with 1 Axes>"
            ],
            "image/png": "[encoded data removed]"
          },
          "metadata": {}
        }
      ]
    },
    {
      "cell_type": "code",
      "source": [
        "plt.subplot(1, 2, 2)\n",
        "plt.plot(history.history['loss'], label='Train Loss')\n",
        "plt.plot(history.history['val_loss'], label='Validation Loss')\n",
        "plt.xlabel('Epochs')\n",
        "plt.ylabel('Loss')\n",
        "plt.legend()\n",
        "plt.title(\"Loss Curve\")\n",
        "plt.show()"
      ],
      "metadata": {
        "id": "noI4eEB60fmY",
        "colab": {
          "base_uri": "https://localhost:8080/",
          "height": 489
        },
        "outputId": "fd7949f1-71d6-4d18-8cf2-c22bd310c7c8"
      },
      "execution_count": 44,
      "outputs": [
        {
          "output_type": "execute_result",
          "data": {
            "text/plain": [
              "Text(0.5, 1.0, 'Loss Curve')"
            ]
          },
          "metadata": {},
          "execution_count": 44
        },
        {
          "output_type": "display_data",
          "data": {
            "text/plain": [
              "<Figure size 640x480 with 1 Axes>"
            ],
            "image/png": "[encoded data removed]"
          },
          "metadata": {}
        }
      ]
    }
  ]
}