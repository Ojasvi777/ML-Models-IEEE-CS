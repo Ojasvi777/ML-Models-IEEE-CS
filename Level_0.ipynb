{
  "nbformat": 4,
  "nbformat_minor": 0,
  "metadata": {
    "colab": {
      "provenance": []
    },
    "kernelspec": {
      "name": "python3",
      "display_name": "Python 3"
    },
    "language_info": {
      "name": "python"
    }
  },
  "cells": [
    {
      "cell_type": "code",
      "execution_count": 1,
      "metadata": {
        "id": "5DIWrRaReo2_"
      },
      "outputs": [],
      "source": [
        "import pandas as pd\n",
        "import numpy as np\n",
        "import matplotlib.pyplot as plt\n"
      ]
    },
    {
      "cell_type": "code",
      "source": [
        "file_path = \"data.csv\"\n",
        "df = pd.read_csv(file_path, on_bad_lines=\"skip\")\n"
      ],
      "metadata": {
        "id": "Wgtlm7Fiessg"
      },
      "execution_count": 5,
      "outputs": []
    },
    {
      "cell_type": "code",
      "source": [
        "print(\"Dataset shape:\", df.shape)\n"
      ],
      "metadata": {
        "colab": {
          "base_uri": "https://localhost:8080/"
        },
        "id": "Eskbj0UXfPL7",
        "outputId": "4ad3a092-2ca7-493b-87db-fe796a1b9298"
      },
      "execution_count": 6,
      "outputs": [
        {
          "output_type": "stream",
          "name": "stdout",
          "text": [
            "Dataset shape: (60470, 785)\n"
          ]
        }
      ]
    },
    {
      "cell_type": "code",
      "source": [
        "labels = df.iloc[:, 0].values\n",
        "pixels = df.iloc[:, 1:].values"
      ],
      "metadata": {
        "id": "tqWK0SlWfR1c"
      },
      "execution_count": 7,
      "outputs": []
    },
    {
      "cell_type": "code",
      "source": [
        "image_size = int(np.sqrt(pixels.shape[1]))\n",
        "images = pixels.reshape(-1, image_size, image_size)\n"
      ],
      "metadata": {
        "id": "9xqJdH06fUaR"
      },
      "execution_count": 8,
      "outputs": []
    },
    {
      "cell_type": "code",
      "source": [
        "fig, axes = plt.subplots(1, 5, figsize=(10, 5))\n",
        "for i, ax in enumerate(axes):\n",
        "    ax.imshow(images[i], cmap=\"gray\")\n",
        "    ax.set_title(f\"Label: {labels[i]}\")\n",
        "    ax.axis(\"off\")\n",
        "plt.show()"
      ],
      "metadata": {
        "colab": {
          "base_uri": "https://localhost:8080/",
          "height": 192
        },
        "id": "5J0pk3YEfXuz",
        "outputId": "00ba22dc-8a8a-4eab-fd16-a28764d298c2"
      },
      "execution_count": 9,
      "outputs": [
        {
          "output_type": "display_data",
          "data": {
            "text/plain": [
              "<Figure size 1000x500 with 5 Axes>"
            ],
            "image/png": "[encoded data removed]"
          },
          "metadata": {}
        }
      ]
    },
    {
      "cell_type": "code",
      "source": [
        "print(\"Sample image pixel values:\\n\", images[0])"
      ],
      "metadata": {
        "colab": {
          "base_uri": "https://localhost:8080/"
        },
        "id": "6R087lFzfaj7",
        "outputId": "be75dd79-e86d-4e15-face-597da6abb2e9"
      },
      "execution_count": 10,
      "outputs": [
        {
          "output_type": "stream",
          "name": "stdout",
          "text": [
            "Sample image pixel values:\n",
            " [[  0.   0.   0.   0.   0.   0.   0.   0.   0.   0.   0.   0.   0.   0.\n",
            "    0.   0.   0.   0.   0.   0.   0.   0.   0.   0.   0.   0.   0.   0.]\n",
            " [  0.   0.   0.   0.   0.   0.   0.   0.   0.   0.   0.   0.   0.   0.\n",
            "    0.   0.   0.   0.   0.   0.   0.   0.   0.   0.   0.   0.   0.   0.]\n",
            " [  0.   0.   0.   0.   0.   0.   0.   0.   0.   0.   0.   0.   0.   0.\n",
            "    0.   0.   0.   0.   0.   0.   0.   0.   0.   0.   0.   0.   0.   0.]\n",
            " [  0.   0.   0.   0.   4.   0.   0.   0.   0.   0.  62.  61.  21.  29.\n",
            "   23.  51. 136.  61.   0.   0.   0.   0.   0.   0.   0.   0.   0.   0.]\n",
            " [  0.   0.   0.   0.   0.   0.   0.  88. 201. 228. 225. 255. 115.  62.\n",
            "  137. 255. 235. 222. 255. 135.   0.   0.   0.   0.   0.   0.   0.   0.]\n",
            " [  0.   0.   0.   0.   0.  47. 252. 234. 238. 224. 215. 215. 229. 108.\n",
            "  180. 207. 214. 224. 231. 249. 254.  45.   0.   0.   0.   0.   0.   0.]\n",
            " [  0.   0.   1.   0.   0. 214. 222. 210. 213. 224. 225. 217. 220. 254.\n",
            "  233. 219. 221. 217. 223. 221. 240. 254.   0.   0.   1.   0.   0.   0.]\n",
            " [  1.   0.   0.   0. 128. 237. 207. 224. 224. 207. 216. 214. 210. 208.\n",
            "  211. 221. 208. 219. 213. 226. 211. 237. 150.   0.   0.   0.   0.   0.]\n",
            " [  0.   2.   0.   0. 237. 222. 215. 207. 210. 212. 213. 206. 214. 213.\n",
            "  214. 213. 210. 215. 214. 206. 199. 218. 255.  13.   0.   2.   0.   0.]\n",
            " [  0.   4.   0.  85. 228. 210. 218. 200. 211. 208. 203. 215. 210. 209.\n",
            "  209. 210. 213. 211. 210. 217. 206. 213. 231. 175.   0.   0.   0.   0.]\n",
            " [  0.   0.   0. 217. 224. 215. 206. 205. 204. 217. 230. 222. 215. 224.\n",
            "  233. 228. 232. 228. 224. 207. 212. 215. 213. 229.  31.   0.   4.   0.]\n",
            " [  1.   0.  21. 225. 212. 212. 203. 211. 225. 193. 139. 136. 195. 147.\n",
            "  156. 139. 128. 162. 197. 223. 207. 220. 213. 232. 177.   0.   0.   0.]\n",
            " [  0.   0. 123. 226. 207. 211. 209. 205. 228. 158.  90. 103. 186. 138.\n",
            "  100. 121. 147. 158. 183. 226. 208. 214. 209. 216. 255.  13.   0.   1.]\n",
            " [  0.   0. 226. 219. 202. 208. 206. 205. 216. 184. 156. 150. 193. 170.\n",
            "  164. 168. 188. 186. 200. 219. 216. 213. 213. 211. 233. 148.   0.   0.]\n",
            " [  0.  45. 227. 204. 214. 211. 218. 222. 221. 230. 229. 221. 213. 224.\n",
            "  233. 226. 220. 219. 221. 224. 223. 217. 210. 218. 213. 254.   0.   0.]\n",
            " [  0. 157. 226. 203. 207. 211. 209. 215. 205. 198. 207. 208. 201. 201.\n",
            "  197. 203. 205. 210. 207. 213. 214. 214. 214. 213. 208. 234. 107.   0.]\n",
            " [  0. 235. 213. 204. 211. 210. 209. 213. 202. 197. 204. 215. 217. 213.\n",
            "  212. 210. 206. 212. 203. 211. 218. 215. 214. 208. 209. 222. 230.   0.]\n",
            " [ 52. 255. 207. 200. 208. 213. 210. 210. 208. 207. 202. 201. 209. 216.\n",
            "  216. 216. 216. 214. 212. 205. 215. 201. 228. 208. 214. 212. 218.  25.]\n",
            " [118. 217. 201. 206. 208. 213. 208. 205. 206. 210. 211. 202. 199. 207.\n",
            "  208. 209. 210. 207. 210. 210. 245. 139. 119. 255. 202. 203. 236. 114.]\n",
            " [171. 238. 212. 203. 220. 216. 217. 209. 207. 205. 210. 211. 206. 204.\n",
            "  206. 209. 211. 215. 210. 206. 221. 242.   0. 224. 234. 230. 181.  26.]\n",
            " [ 39. 145. 201. 255. 157. 115. 250. 200. 207. 206. 207. 213. 216. 206.\n",
            "  205. 206. 207. 206. 215. 207. 221. 238.   0.   0. 188.  85.   0.   0.]\n",
            " [  0.   0.   0.  31.   0. 129. 253. 190. 207. 208. 208. 208. 209. 211.\n",
            "  211. 209. 209. 209. 212. 201. 226. 165.   0.   0.   0.   0.   0.   0.]\n",
            " [  2.   0.   0.   0.   0.  89. 254. 199. 199. 192. 196. 198. 199. 201.\n",
            "  202. 203. 204. 203. 203. 200. 222. 155.   0.   3.   3.   3.   2.   0.]\n",
            " [  0.   0.   1.   5.   0.   0. 255. 218. 226. 232. 228. 224. 222. 220.\n",
            "  219. 219. 217. 221. 220. 212. 236.  95.   0.   2.   0.   0.   0.   0.]\n",
            " [  0.   0.   0.   0.   0.   0. 155. 194. 168. 170. 171. 173. 173. 179.\n",
            "  177. 175. 172. 171. 167. 161. 180.   0.   0.   1.   0.   1.   0.   0.]\n",
            " [  0.   0.   0.   0.   0.   0.   0.   0.   0.   0.   0.   0.   0.   0.\n",
            "    0.   0.   0.   0.   0.   0.   0.   0.   0.   0.   0.   0.   0.   0.]\n",
            " [  0.   0.   0.   0.   0.   0.   0.   0.   0.   0.   0.   0.   0.   0.\n",
            "    0.   0.   0.   0.   0.   0.   0.   0.   0.   0.   0.   0.   0.   0.]\n",
            " [  0.   0.   0.   0.   0.   0.   0.   0.   0.   0.   0.   0.   0.   0.\n",
            "    0.   0.   0.   0.   0.   0.   0.   0.   0.   0.   0.   0.   0.   0.]]\n"
          ]
        }
      ]
    },
    {
      "cell_type": "code",
      "source": [],
      "metadata": {
        "id": "QAPniQqCoHZm"
      },
      "execution_count": null,
      "outputs": []
    }
  ]
}